{
<<<<<<< HEAD
=======
  "nbformat": 4,
  "nbformat_minor": 0,
  "metadata": {
    "colab": {
      "provenance": [],
      "gpuType": "T4"
    },
    "kernelspec": {
      "name": "python3",
      "display_name": "Python 3"
    },
    "language_info": {
      "name": "python"
    },
    "accelerator": "GPU",
    "widgets": {
      "application/vnd.jupyter.widget-state+json": {
        "75150d229f5a4bc8b43446a427345ffd": {
          "model_module": "@jupyter-widgets/controls",
          "model_name": "HBoxModel",
          "model_module_version": "1.5.0",
          "state": {
            "_dom_classes": [],
            "_model_module": "@jupyter-widgets/controls",
            "_model_module_version": "1.5.0",
            "_model_name": "HBoxModel",
            "_view_count": null,
            "_view_module": "@jupyter-widgets/controls",
            "_view_module_version": "1.5.0",
            "_view_name": "HBoxView",
            "box_style": "",
            "children": [
              "IPY_MODEL_dab745a4fe6b4af0b47c29b64c52be9b",
              "IPY_MODEL_c20d4dae63164d4ba4bbb8cd808b2612",
              "IPY_MODEL_a63e9e0c5ed44cdc92859617eabcaaad"
            ],
            "layout": "IPY_MODEL_7c1c143abf424e189d5180608b155ca0"
          }
        },
        "dab745a4fe6b4af0b47c29b64c52be9b": {
          "model_module": "@jupyter-widgets/controls",
          "model_name": "HTMLModel",
          "model_module_version": "1.5.0",
          "state": {
            "_dom_classes": [],
            "_model_module": "@jupyter-widgets/controls",
            "_model_module_version": "1.5.0",
            "_model_name": "HTMLModel",
            "_view_count": null,
            "_view_module": "@jupyter-widgets/controls",
            "_view_module_version": "1.5.0",
            "_view_name": "HTMLView",
            "description": "",
            "description_tooltip": null,
            "layout": "IPY_MODEL_4aed10fe07d943568df0070a60c762d1",
            "placeholder": "​",
            "style": "IPY_MODEL_127b768c13fa40178f336a1f948f5229",
            "value": "model.safetensors: 100%"
          }
        },
        "c20d4dae63164d4ba4bbb8cd808b2612": {
          "model_module": "@jupyter-widgets/controls",
          "model_name": "FloatProgressModel",
          "model_module_version": "1.5.0",
          "state": {
            "_dom_classes": [],
            "_model_module": "@jupyter-widgets/controls",
            "_model_module_version": "1.5.0",
            "_model_name": "FloatProgressModel",
            "_view_count": null,
            "_view_module": "@jupyter-widgets/controls",
            "_view_module_version": "1.5.0",
            "_view_name": "ProgressView",
            "bar_style": "success",
            "description": "",
            "description_tooltip": null,
            "layout": "IPY_MODEL_119fb74816c24032bdcc7153ed6dc1d8",
            "max": 498615900,
            "min": 0,
            "orientation": "horizontal",
            "style": "IPY_MODEL_636d5bf37f3642d8a38dd4a3742bb945",
            "value": 498615900
          }
        },
        "a63e9e0c5ed44cdc92859617eabcaaad": {
          "model_module": "@jupyter-widgets/controls",
          "model_name": "HTMLModel",
          "model_module_version": "1.5.0",
          "state": {
            "_dom_classes": [],
            "_model_module": "@jupyter-widgets/controls",
            "_model_module_version": "1.5.0",
            "_model_name": "HTMLModel",
            "_view_count": null,
            "_view_module": "@jupyter-widgets/controls",
            "_view_module_version": "1.5.0",
            "_view_name": "HTMLView",
            "description": "",
            "description_tooltip": null,
            "layout": "IPY_MODEL_4e43a5ed0d60427a85de70bc68048866",
            "placeholder": "​",
            "style": "IPY_MODEL_6589d3230e9e46208900f8db1a58019f",
            "value": " 499M/499M [00:20&lt;00:00, 24.3MB/s]"
          }
        },
        "7c1c143abf424e189d5180608b155ca0": {
          "model_module": "@jupyter-widgets/base",
          "model_name": "LayoutModel",
          "model_module_version": "1.2.0",
          "state": {
            "_model_module": "@jupyter-widgets/base",
            "_model_module_version": "1.2.0",
            "_model_name": "LayoutModel",
            "_view_count": null,
            "_view_module": "@jupyter-widgets/base",
            "_view_module_version": "1.2.0",
            "_view_name": "LayoutView",
            "align_content": null,
            "align_items": null,
            "align_self": null,
            "border": null,
            "bottom": null,
            "display": null,
            "flex": null,
            "flex_flow": null,
            "grid_area": null,
            "grid_auto_columns": null,
            "grid_auto_flow": null,
            "grid_auto_rows": null,
            "grid_column": null,
            "grid_gap": null,
            "grid_row": null,
            "grid_template_areas": null,
            "grid_template_columns": null,
            "grid_template_rows": null,
            "height": null,
            "justify_content": null,
            "justify_items": null,
            "left": null,
            "margin": null,
            "max_height": null,
            "max_width": null,
            "min_height": null,
            "min_width": null,
            "object_fit": null,
            "object_position": null,
            "order": null,
            "overflow": null,
            "overflow_x": null,
            "overflow_y": null,
            "padding": null,
            "right": null,
            "top": null,
            "visibility": null,
            "width": null
          }
        },
        "4aed10fe07d943568df0070a60c762d1": {
          "model_module": "@jupyter-widgets/base",
          "model_name": "LayoutModel",
          "model_module_version": "1.2.0",
          "state": {
            "_model_module": "@jupyter-widgets/base",
            "_model_module_version": "1.2.0",
            "_model_name": "LayoutModel",
            "_view_count": null,
            "_view_module": "@jupyter-widgets/base",
            "_view_module_version": "1.2.0",
            "_view_name": "LayoutView",
            "align_content": null,
            "align_items": null,
            "align_self": null,
            "border": null,
            "bottom": null,
            "display": null,
            "flex": null,
            "flex_flow": null,
            "grid_area": null,
            "grid_auto_columns": null,
            "grid_auto_flow": null,
            "grid_auto_rows": null,
            "grid_column": null,
            "grid_gap": null,
            "grid_row": null,
            "grid_template_areas": null,
            "grid_template_columns": null,
            "grid_template_rows": null,
            "height": null,
            "justify_content": null,
            "justify_items": null,
            "left": null,
            "margin": null,
            "max_height": null,
            "max_width": null,
            "min_height": null,
            "min_width": null,
            "object_fit": null,
            "object_position": null,
            "order": null,
            "overflow": null,
            "overflow_x": null,
            "overflow_y": null,
            "padding": null,
            "right": null,
            "top": null,
            "visibility": null,
            "width": null
          }
        },
        "127b768c13fa40178f336a1f948f5229": {
          "model_module": "@jupyter-widgets/controls",
          "model_name": "DescriptionStyleModel",
          "model_module_version": "1.5.0",
          "state": {
            "_model_module": "@jupyter-widgets/controls",
            "_model_module_version": "1.5.0",
            "_model_name": "DescriptionStyleModel",
            "_view_count": null,
            "_view_module": "@jupyter-widgets/base",
            "_view_module_version": "1.2.0",
            "_view_name": "StyleView",
            "description_width": ""
          }
        },
        "119fb74816c24032bdcc7153ed6dc1d8": {
          "model_module": "@jupyter-widgets/base",
          "model_name": "LayoutModel",
          "model_module_version": "1.2.0",
          "state": {
            "_model_module": "@jupyter-widgets/base",
            "_model_module_version": "1.2.0",
            "_model_name": "LayoutModel",
            "_view_count": null,
            "_view_module": "@jupyter-widgets/base",
            "_view_module_version": "1.2.0",
            "_view_name": "LayoutView",
            "align_content": null,
            "align_items": null,
            "align_self": null,
            "border": null,
            "bottom": null,
            "display": null,
            "flex": null,
            "flex_flow": null,
            "grid_area": null,
            "grid_auto_columns": null,
            "grid_auto_flow": null,
            "grid_auto_rows": null,
            "grid_column": null,
            "grid_gap": null,
            "grid_row": null,
            "grid_template_areas": null,
            "grid_template_columns": null,
            "grid_template_rows": null,
            "height": null,
            "justify_content": null,
            "justify_items": null,
            "left": null,
            "margin": null,
            "max_height": null,
            "max_width": null,
            "min_height": null,
            "min_width": null,
            "object_fit": null,
            "object_position": null,
            "order": null,
            "overflow": null,
            "overflow_x": null,
            "overflow_y": null,
            "padding": null,
            "right": null,
            "top": null,
            "visibility": null,
            "width": null
          }
        },
        "636d5bf37f3642d8a38dd4a3742bb945": {
          "model_module": "@jupyter-widgets/controls",
          "model_name": "ProgressStyleModel",
          "model_module_version": "1.5.0",
          "state": {
            "_model_module": "@jupyter-widgets/controls",
            "_model_module_version": "1.5.0",
            "_model_name": "ProgressStyleModel",
            "_view_count": null,
            "_view_module": "@jupyter-widgets/base",
            "_view_module_version": "1.2.0",
            "_view_name": "StyleView",
            "bar_color": null,
            "description_width": ""
          }
        },
        "4e43a5ed0d60427a85de70bc68048866": {
          "model_module": "@jupyter-widgets/base",
          "model_name": "LayoutModel",
          "model_module_version": "1.2.0",
          "state": {
            "_model_module": "@jupyter-widgets/base",
            "_model_module_version": "1.2.0",
            "_model_name": "LayoutModel",
            "_view_count": null,
            "_view_module": "@jupyter-widgets/base",
            "_view_module_version": "1.2.0",
            "_view_name": "LayoutView",
            "align_content": null,
            "align_items": null,
            "align_self": null,
            "border": null,
            "bottom": null,
            "display": null,
            "flex": null,
            "flex_flow": null,
            "grid_area": null,
            "grid_auto_columns": null,
            "grid_auto_flow": null,
            "grid_auto_rows": null,
            "grid_column": null,
            "grid_gap": null,
            "grid_row": null,
            "grid_template_areas": null,
            "grid_template_columns": null,
            "grid_template_rows": null,
            "height": null,
            "justify_content": null,
            "justify_items": null,
            "left": null,
            "margin": null,
            "max_height": null,
            "max_width": null,
            "min_height": null,
            "min_width": null,
            "object_fit": null,
            "object_position": null,
            "order": null,
            "overflow": null,
            "overflow_x": null,
            "overflow_y": null,
            "padding": null,
            "right": null,
            "top": null,
            "visibility": null,
            "width": null
          }
        },
        "6589d3230e9e46208900f8db1a58019f": {
          "model_module": "@jupyter-widgets/controls",
          "model_name": "DescriptionStyleModel",
          "model_module_version": "1.5.0",
          "state": {
            "_model_module": "@jupyter-widgets/controls",
            "_model_module_version": "1.5.0",
            "_model_name": "DescriptionStyleModel",
            "_view_count": null,
            "_view_module": "@jupyter-widgets/base",
            "_view_module_version": "1.2.0",
            "_view_name": "StyleView",
            "description_width": ""
          }
        }
      }
    }
  },
>>>>>>> 62b92bfa8e8b2d7c11e106e45aac7942c12de685
  "cells": [
    {
      "cell_type": "markdown",
      "metadata": {
        "id": "JNPyhPqqQmv-"
      },
      "source": [
        "# NLP Transformer: Inference"
      ]
    },
    {
      "cell_type": "code",
      "execution_count": 1,
      "metadata": {
        "colab": {
          "base_uri": "https://localhost:8080/"
        },
<<<<<<< HEAD
        "collapsed": true,
        "id": "DCNsUAXylqJu",
        "outputId": "e249aafa-f821-47d3-aa81-c1c57319ff34"
=======
        "outputId": "fc9169d0-91e6-4f96-95b9-cf1845171c7d"
>>>>>>> 62b92bfa8e8b2d7c11e106e45aac7942c12de685
      },
      "outputs": [
        {
          "name": "stdout",
          "output_type": "stream",
          "text": [
            "Collecting Wikidata\n",
            "  Downloading Wikidata-0.8.1-py3-none-any.whl.metadata (3.0 kB)\n",
            "Downloading Wikidata-0.8.1-py3-none-any.whl (29 kB)\n",
            "Installing collected packages: Wikidata\n",
            "Successfully installed Wikidata-0.8.1\n",
            "Collecting datasets\n",
            "  Downloading datasets-3.5.1-py3-none-any.whl.metadata (19 kB)\n",
            "Requirement already satisfied: filelock in /usr/local/lib/python3.11/dist-packages (from datasets) (3.18.0)\n",
            "Requirement already satisfied: numpy>=1.17 in /usr/local/lib/python3.11/dist-packages (from datasets) (2.0.2)\n",
            "Requirement already satisfied: pyarrow>=15.0.0 in /usr/local/lib/python3.11/dist-packages (from datasets) (18.1.0)\n",
            "Collecting dill<0.3.9,>=0.3.0 (from datasets)\n",
            "  Downloading dill-0.3.8-py3-none-any.whl.metadata (10 kB)\n",
            "Requirement already satisfied: pandas in /usr/local/lib/python3.11/dist-packages (from datasets) (2.2.2)\n",
            "Requirement already satisfied: requests>=2.32.2 in /usr/local/lib/python3.11/dist-packages (from datasets) (2.32.3)\n",
            "Requirement already satisfied: tqdm>=4.66.3 in /usr/local/lib/python3.11/dist-packages (from datasets) (4.67.1)\n",
            "Collecting xxhash (from datasets)\n",
            "  Downloading xxhash-3.5.0-cp311-cp311-manylinux_2_17_x86_64.manylinux2014_x86_64.whl.metadata (12 kB)\n",
            "Collecting multiprocess<0.70.17 (from datasets)\n",
            "  Downloading multiprocess-0.70.16-py311-none-any.whl.metadata (7.2 kB)\n",
            "Collecting fsspec<=2025.3.0,>=2023.1.0 (from fsspec[http]<=2025.3.0,>=2023.1.0->datasets)\n",
            "  Downloading fsspec-2025.3.0-py3-none-any.whl.metadata (11 kB)\n",
            "Requirement already satisfied: aiohttp in /usr/local/lib/python3.11/dist-packages (from datasets) (3.11.15)\n",
            "Requirement already satisfied: huggingface-hub>=0.24.0 in /usr/local/lib/python3.11/dist-packages (from datasets) (0.30.2)\n",
            "Requirement already satisfied: packaging in /usr/local/lib/python3.11/dist-packages (from datasets) (24.2)\n",
            "Requirement already satisfied: pyyaml>=5.1 in /usr/local/lib/python3.11/dist-packages (from datasets) (6.0.2)\n",
            "Requirement already satisfied: aiohappyeyeballs>=2.3.0 in /usr/local/lib/python3.11/dist-packages (from aiohttp->datasets) (2.6.1)\n",
            "Requirement already satisfied: aiosignal>=1.1.2 in /usr/local/lib/python3.11/dist-packages (from aiohttp->datasets) (1.3.2)\n",
            "Requirement already satisfied: attrs>=17.3.0 in /usr/local/lib/python3.11/dist-packages (from aiohttp->datasets) (25.3.0)\n",
            "Requirement already satisfied: frozenlist>=1.1.1 in /usr/local/lib/python3.11/dist-packages (from aiohttp->datasets) (1.6.0)\n",
            "Requirement already satisfied: multidict<7.0,>=4.5 in /usr/local/lib/python3.11/dist-packages (from aiohttp->datasets) (6.4.3)\n",
            "Requirement already satisfied: propcache>=0.2.0 in /usr/local/lib/python3.11/dist-packages (from aiohttp->datasets) (0.3.1)\n",
            "Requirement already satisfied: yarl<2.0,>=1.17.0 in /usr/local/lib/python3.11/dist-packages (from aiohttp->datasets) (1.20.0)\n",
            "Requirement already satisfied: typing-extensions>=3.7.4.3 in /usr/local/lib/python3.11/dist-packages (from huggingface-hub>=0.24.0->datasets) (4.13.2)\n",
            "Requirement already satisfied: charset-normalizer<4,>=2 in /usr/local/lib/python3.11/dist-packages (from requests>=2.32.2->datasets) (3.4.1)\n",
            "Requirement already satisfied: idna<4,>=2.5 in /usr/local/lib/python3.11/dist-packages (from requests>=2.32.2->datasets) (3.10)\n",
            "Requirement already satisfied: urllib3<3,>=1.21.1 in /usr/local/lib/python3.11/dist-packages (from requests>=2.32.2->datasets) (2.4.0)\n",
            "Requirement already satisfied: certifi>=2017.4.17 in /usr/local/lib/python3.11/dist-packages (from requests>=2.32.2->datasets) (2025.4.26)\n",
            "Requirement already satisfied: python-dateutil>=2.8.2 in /usr/local/lib/python3.11/dist-packages (from pandas->datasets) (2.9.0.post0)\n",
            "Requirement already satisfied: pytz>=2020.1 in /usr/local/lib/python3.11/dist-packages (from pandas->datasets) (2025.2)\n",
            "Requirement already satisfied: tzdata>=2022.7 in /usr/local/lib/python3.11/dist-packages (from pandas->datasets) (2025.2)\n",
            "Requirement already satisfied: six>=1.5 in /usr/local/lib/python3.11/dist-packages (from python-dateutil>=2.8.2->pandas->datasets) (1.17.0)\n",
            "Downloading datasets-3.5.1-py3-none-any.whl (491 kB)\n",
            "\u001b[2K   \u001b[90m━━━━━━━━━━━━━━━━━━━━━━━━━━━━━━━━━━━━━━━━\u001b[0m \u001b[32m491.4/491.4 kB\u001b[0m \u001b[31m31.2 MB/s\u001b[0m eta \u001b[36m0:00:00\u001b[0m\n",
            "\u001b[?25hDownloading dill-0.3.8-py3-none-any.whl (116 kB)\n",
            "\u001b[2K   \u001b[90m━━━━━━━━━━━━━━━━━━━━━━━━━━━━━━━━━━━━━━━━\u001b[0m \u001b[32m116.3/116.3 kB\u001b[0m \u001b[31m12.1 MB/s\u001b[0m eta \u001b[36m0:00:00\u001b[0m\n",
            "\u001b[?25hDownloading fsspec-2025.3.0-py3-none-any.whl (193 kB)\n",
            "\u001b[2K   \u001b[90m━━━━━━━━━━━━━━━━━━━━━━━━━━━━━━━━━━━━━━━━\u001b[0m \u001b[32m193.6/193.6 kB\u001b[0m \u001b[31m14.1 MB/s\u001b[0m eta \u001b[36m0:00:00\u001b[0m\n",
            "\u001b[?25hDownloading multiprocess-0.70.16-py311-none-any.whl (143 kB)\n",
            "\u001b[2K   \u001b[90m━━━━━━━━━━━━━━━━━━━━━━━━━━━━━━━━━━━━━━━━\u001b[0m \u001b[32m143.5/143.5 kB\u001b[0m \u001b[31m8.7 MB/s\u001b[0m eta \u001b[36m0:00:00\u001b[0m\n",
            "\u001b[?25hDownloading xxhash-3.5.0-cp311-cp311-manylinux_2_17_x86_64.manylinux2014_x86_64.whl (194 kB)\n",
            "\u001b[2K   \u001b[90m━━━━━━━━━━━━━━━━━━━━━━━━━━━━━━━━━━━━━━━━\u001b[0m \u001b[32m194.8/194.8 kB\u001b[0m \u001b[31m8.9 MB/s\u001b[0m eta \u001b[36m0:00:00\u001b[0m\n",
            "\u001b[?25hInstalling collected packages: xxhash, fsspec, dill, multiprocess, datasets\n",
            "  Attempting uninstall: fsspec\n",
            "    Found existing installation: fsspec 2025.3.2\n",
            "    Uninstalling fsspec-2025.3.2:\n",
            "      Successfully uninstalled fsspec-2025.3.2\n",
            "\u001b[31mERROR: pip's dependency resolver does not currently take into account all the packages that are installed. This behaviour is the source of the following dependency conflicts.\n",
            "torch 2.6.0+cu124 requires nvidia-cublas-cu12==12.4.5.8; platform_system == \"Linux\" and platform_machine == \"x86_64\", but you have nvidia-cublas-cu12 12.5.3.2 which is incompatible.\n",
            "torch 2.6.0+cu124 requires nvidia-cuda-cupti-cu12==12.4.127; platform_system == \"Linux\" and platform_machine == \"x86_64\", but you have nvidia-cuda-cupti-cu12 12.5.82 which is incompatible.\n",
            "torch 2.6.0+cu124 requires nvidia-cuda-nvrtc-cu12==12.4.127; platform_system == \"Linux\" and platform_machine == \"x86_64\", but you have nvidia-cuda-nvrtc-cu12 12.5.82 which is incompatible.\n",
            "torch 2.6.0+cu124 requires nvidia-cuda-runtime-cu12==12.4.127; platform_system == \"Linux\" and platform_machine == \"x86_64\", but you have nvidia-cuda-runtime-cu12 12.5.82 which is incompatible.\n",
            "torch 2.6.0+cu124 requires nvidia-cudnn-cu12==9.1.0.70; platform_system == \"Linux\" and platform_machine == \"x86_64\", but you have nvidia-cudnn-cu12 9.3.0.75 which is incompatible.\n",
            "torch 2.6.0+cu124 requires nvidia-cufft-cu12==11.2.1.3; platform_system == \"Linux\" and platform_machine == \"x86_64\", but you have nvidia-cufft-cu12 11.2.3.61 which is incompatible.\n",
            "torch 2.6.0+cu124 requires nvidia-curand-cu12==10.3.5.147; platform_system == \"Linux\" and platform_machine == \"x86_64\", but you have nvidia-curand-cu12 10.3.6.82 which is incompatible.\n",
            "torch 2.6.0+cu124 requires nvidia-cusolver-cu12==11.6.1.9; platform_system == \"Linux\" and platform_machine == \"x86_64\", but you have nvidia-cusolver-cu12 11.6.3.83 which is incompatible.\n",
            "torch 2.6.0+cu124 requires nvidia-cusparse-cu12==12.3.1.170; platform_system == \"Linux\" and platform_machine == \"x86_64\", but you have nvidia-cusparse-cu12 12.5.1.3 which is incompatible.\n",
            "torch 2.6.0+cu124 requires nvidia-nvjitlink-cu12==12.4.127; platform_system == \"Linux\" and platform_machine == \"x86_64\", but you have nvidia-nvjitlink-cu12 12.5.82 which is incompatible.\n",
            "gcsfs 2025.3.2 requires fsspec==2025.3.2, but you have fsspec 2025.3.0 which is incompatible.\u001b[0m\u001b[31m\n",
            "\u001b[0mSuccessfully installed datasets-3.5.1 dill-0.3.8 fsspec-2025.3.0 multiprocess-0.70.16 xxhash-3.5.0\n"
          ]
        }
      ],
      "source": [
        "!pip install Wikidata\n",
        "!pip install datasets"
      ]
    },
    {
      "cell_type": "code",
      "execution_count": 2,
      "metadata": {
        "id": "NPYS__k7tU3Q"
      },
      "outputs": [],
      "source": [
        "import torch, random, requests, os, pickle\n",
        "import numpy as np\n",
        "from wikidata.client import Client\n",
        "from datasets import load_dataset\n",
        "import pandas as pd\n",
        "from google.colab import userdata\n",
        "from google.colab import drive\n",
        "from sklearn.metrics import f1_score, recall_score, precision_score, accuracy_score, confusion_matrix, ConfusionMatrixDisplay"
      ]
    },
    {
      "cell_type": "code",
      "execution_count": 3,
      "metadata": {
        "id": "JPOI_M3umGch"
      },
      "outputs": [],
      "source": [
        "from transformers import set_seed"
      ]
    },
    {
      "cell_type": "markdown",
      "metadata": {
        "id": "vQoa3pVfRZ_-"
      },
      "source": [
        "Setting seeds is done to make the training process as much deterministic as possible.\n",
        "This should help to compare results of different trainings (for instance, the accuracy of the validation test)."
      ]
    },
    {
      "cell_type": "code",
      "execution_count": 4,
      "metadata": {
        "id": "THzb1CV7ggEv"
      },
      "outputs": [],
      "source": [
        "torch.manual_seed(42)\n",
        "random.seed(42)\n",
        "np.random.seed(42)"
      ]
    },
    {
      "cell_type": "code",
      "execution_count": 5,
      "metadata": {
        "id": "c7HjzdTlmJZ-"
      },
      "outputs": [],
      "source": [
        "set_seed(42)"
      ]
    },
    {
      "cell_type": "markdown",
      "metadata": {
        "id": "UOP1h3JWRe4P"
      },
      "source": [
        "Wikipedia pages and Wikidata data need to be loaded from the web.\n",
        "In order to speed up the training and the inference, we store (cache) the retrieved and the processed data in files."
      ]
    },
    {
      "cell_type": "code",
      "execution_count": 6,
      "metadata": {
        "colab": {
          "base_uri": "https://localhost:8080/"
        },
        "id": "xCas4n7JePkX",
        "outputId": "7e4a2cb3-526d-4f73-b212-e3057d144e14"
      },
      "outputs": [
        {
          "name": "stdout",
          "output_type": "stream",
          "text": [
            "Drive already mounted at /content/drive; to attempt to forcibly remount, call drive.mount(\"/content/drive\", force_remount=True).\n"
          ]
        }
      ],
      "source": [
        "drive.mount('/content/drive')\n",
        "BASE_PATH = '/content/drive/MyDrive/Lost_in_Language_Recognition/'\n",
        "\n",
        "def dump(file_name, result):\n",
        "    file_path = BASE_PATH + file_name\n",
        "    # remove dump files if present\n",
        "    if os.path.exists(file_path):\n",
        "        os.remove(file_path)\n",
        "    with open(file_path, 'wb') as file:\n",
        "        print(\"dumping\", file_path)\n",
        "        # noinspection PyTypeChecker\n",
        "        pickle.dump(result, file)\n",
        "\n",
        "def load(file_name):\n",
        "    file_path = BASE_PATH + file_name\n",
        "    with open(file_path, 'rb') as file:\n",
        "        print(\"loading\", file_path)\n",
        "        # noinspection PyTypeChecker\n",
        "        return pickle.load(file)\n",
        "\n",
        "def file_exists(file_name):\n",
        "    file_path = BASE_PATH + file_name\n",
        "    return os.path.exists(file_path)"
<<<<<<< HEAD
=======
      ],
      "metadata": {
        "id": "xCas4n7JePkX",
        "colab": {
          "base_uri": "https://localhost:8080/"
        },
        "outputId": "a7e44312-7849-421e-aac3-031b089e5e1a"
      },
      "execution_count": 6,
      "outputs": [
        {
          "output_type": "stream",
          "name": "stdout",
          "text": [
            "Mounted at /content/drive\n"
          ]
        }
>>>>>>> 62b92bfa8e8b2d7c11e106e45aac7942c12de685
      ]
    },
    {
      "cell_type": "markdown",
      "metadata": {
        "id": "YoUeopjcRkpx"
      },
      "source": [
        "In this section we build the singleton `NLPDataset`, that contains:\n",
        "1. The original Hugging Face dataset\n",
        "2. The Wikidata entities\n",
        "3. The Wikipedia pages"
      ]
    },
    {
      "cell_type": "code",
      "execution_count": 7,
      "metadata": {
        "id": "MnMKuBqNkBYn"
      },
      "outputs": [],
      "source": [
        "def wikipedia_pages(sitelinks):\n",
        "    result = []\n",
        "    for site_key in sitelinks.keys():\n",
        "        if site_key.endswith(\"wiki\") and not site_key.startswith(\"commons\"):\n",
        "            lang = site_key.replace(\"wiki\", \"\")\n",
        "            result.append(lang)\n",
        "    return result\n",
        "\n",
        "def build_claims(claims):\n",
        "    result = {}\n",
        "    for prop_id, values in claims.items():\n",
        "        result[prop_id] = len(values)\n",
        "    return result\n",
        "\n",
        "class Entity:\n",
        "    def __init__(self, entity_id, dataset_item, wiki_data, wiki_text):\n",
        "        self.entity_id = entity_id\n",
        "        if 'label' in dataset_item:\n",
        "            self.label = dataset_item['label']\n",
        "        self.name = dataset_item['name']\n",
        "        self.description = dataset_item['description']\n",
        "        self.type = dataset_item['type']\n",
        "        self.category = dataset_item['category']\n",
        "        self.subcategory = dataset_item['subcategory']\n",
        "        self.wiki_text = wiki_text\n",
        "        # Languages\n",
        "        self.labels = list(wiki_data.data.get(\"labels\", {}).keys())\n",
        "        self.descriptions = list(wiki_data.data.get(\"descriptions\", {}).keys())\n",
        "        self.aliases = list(wiki_data.data.get(\"aliases\", {}).keys())\n",
        "        self.wikipedia_pages = wikipedia_pages(wiki_data.data.get(\"sitelinks\", {}))\n",
        "        # Properties\n",
        "        self.claims = build_claims(wiki_data.data.get(\"claims\", {}))\n",
        "\n",
        "    def __str__(self):\n",
        "        return self.entity_id + \": \" + self.label + \" - \" + self.name\n",
        "\n",
        "API_URL = \"https://en.wikipedia.org/w/api.php\"\n",
        "\n",
        "def extract_entity_id(url):\n",
        "    return url.strip().split(\"/\")[-1]\n",
        "\n",
        "def get_wiki_text(en_wiki):\n",
        "    if not en_wiki:\n",
        "        return None\n",
        "    title = en_wiki[\"title\"]\n",
        "    params = {\n",
        "        \"action\": \"query\",\n",
        "        \"prop\": \"extracts\",\n",
        "        \"explaintext\": True,\n",
        "        \"titles\": title,\n",
        "        \"format\": \"json\",\n",
        "        \"redirects\": 1\n",
        "    }\n",
        "    headers = {'User-Agent': 'Mozilla/5.0 (Windows NT 6.2; Win64; x64) AppleWebKit/537.36 (KHTML, like Gecko) Chrome/75.0.3770.100 Safari/537.36'}\n",
        "    res = requests.get(API_URL, params=params, headers=headers)\n",
        "    json = res.json()\n",
        "    page = next(iter(json[\"query\"][\"pages\"].values()))\n",
        "    # Keep the original text as it is.\n",
        "    # The text will be processed in other methods,\n",
        "    # such as processed_dataset#tokenize().\n",
        "    return page.get(\"extract\", \"\")\n",
        "\n",
        "class EntityFactory:\n",
        "    def __init__(self, client):\n",
        "        self.client = client\n",
        "\n",
        "    def create(self, item):\n",
        "        entity_id = extract_entity_id(item['item'])\n",
        "        try:\n",
        "            wikidata = self.client.get(entity_id, load=True)\n",
        "            sitelinks = wikidata.data.get(\"sitelinks\", {})\n",
        "            en_wiki = sitelinks.get(\"enwiki\")\n",
        "            return Entity(entity_id, item, wikidata, get_wiki_text(en_wiki))\n",
        "        except Exception as e:\n",
        "            print(\"Error loading id:\", entity_id, e)\n",
        "            return None\n",
        "\n",
        "TEST_SET_FILE_NAME = BASE_PATH + \"test_unlabeled.csv\"\n",
        "\n",
        "TRAINING_FILE_NAME = \"training.bin\"\n",
        "VALIDATION_FILE_NAME = \"validation.bin\"\n",
        "TEST_FILE_NAME = \"test.bin\"\n",
        "\n",
        "def create_set(dataset, factory, file_name):\n",
        "    limit = len(dataset)\n",
        "    result = []\n",
        "    for index, item in enumerate(dataset):\n",
        "        created = factory.create(item)\n",
        "        if created is not None:\n",
        "            result.append(created)\n",
        "        if (index + 1) % 10 == 0:\n",
        "            print(\"creating\", file_name, index + 1, \"/\", limit)\n",
        "    return result\n",
        "\n",
        "def load_or_create_set(factory, dataset, file_name):\n",
        "    if not (file_exists(file_name)):\n",
        "        created = create_set(dataset, factory, file_name)\n",
        "        dump(file_name, created)\n",
        "        return created\n",
        "    else:\n",
        "        return load(file_name)\n",
        "\n",
        "class NLPDataset:\n",
        "    def __init__(self):\n",
        "        if (not (file_exists(TRAINING_FILE_NAME)) or not (file_exists(VALIDATION_FILE_NAME))\n",
        "                or not (file_exists(TEST_FILE_NAME))):\n",
        "            # load the project dataset\n",
        "            dataset = load_dataset('sapienzanlp/nlp2025_hw1_cultural_dataset', token=userdata.get('HF_TOKEN'))\n",
        "            # a factory object is used to create our entities\n",
        "            factory = EntityFactory(Client())\n",
        "\n",
        "            self.training_set = load_or_create_set(factory, dataset['train'], TRAINING_FILE_NAME)\n",
        "            self.validation_set = load_or_create_set(factory, dataset['validation'], VALIDATION_FILE_NAME)\n",
        "            self.test_set = load_or_create_set(factory, pd.read_csv(TEST_SET_FILE_NAME).to_dict('records'), TEST_FILE_NAME)\n",
        "        else:\n",
        "            # by default load the dataset from a local dump\n",
        "            self.training_set = load(TRAINING_FILE_NAME)\n",
        "            self.validation_set = load(VALIDATION_FILE_NAME)\n",
        "            self.test_set = load(TEST_FILE_NAME)\n",
        "\n",
        "    def __str__(self):\n",
        "        return (\"training: \" + str(len(self.training_set)) + \". validation: \" + str(len(self.validation_set)) +\n",
        "                \". test: \" + str(len(self.test_set)))"
      ]
    },
    {
      "cell_type": "code",
      "execution_count": 8,
      "metadata": {
        "colab": {
          "base_uri": "https://localhost:8080/"
        },
        "collapsed": true,
        "id": "4hKm7wWbmwt1",
        "outputId": "7c641a97-579a-4464-9ebe-21c2e0bd1540"
      },
      "outputs": [
        {
          "name": "stdout",
          "output_type": "stream",
          "text": [
            "loading /content/drive/MyDrive/Lost_in_Language_Recognition/training.bin\n",
            "loading /content/drive/MyDrive/Lost_in_Language_Recognition/validation.bin\n",
            "loading /content/drive/MyDrive/Lost_in_Language_Recognition/test.bin\n"
          ]
        }
      ],
      "source": [
        "nlp_dataset = NLPDataset()"
      ]
    },
    {
      "cell_type": "markdown",
      "metadata": {
        "id": "Cmm1ekIxRrlM"
      },
      "source": [
        "If the dump files `training.bin` and `validation.bin` are present, the instance is build from the dump.\n",
        "And this is all we need to use the transformer. That is, usually with transformers we don't need to process the data."
      ]
    },
    {
      "cell_type": "code",
      "execution_count": 9,
      "metadata": {
        "id": "pUREAurO-f48"
      },
      "outputs": [],
      "source": [
        "import csv\n",
        "from transformers import AutoModelForSequenceClassification, AutoTokenizer"
      ]
    },
    {
      "cell_type": "markdown",
      "metadata": {
        "id": "cCV8K37DR3mV"
      },
      "source": [
        "In this case we will keep the description and the Wikipedia page text as they are, leaving the burden of taking text processing decisions to the tokenizer. The dataset here is enriched with the Wikipedia text and the labels are mapped to numbers:"
      ]
    },
    {
      "cell_type": "markdown",
      "metadata": {
        "id": "AEkIeczedhTP"
      },
      "source": [
        "In this colab we reuse the result produced by the other colab: `NLP_yes_transformer_training.ipynb`. The model is used to predict the label of the validation set."
      ]
    },
    {
      "cell_type": "code",
      "execution_count": 10,
      "metadata": {
        "id": "JJ6X4DZuBmw8"
      },
      "outputs": [],
      "source": [
        "class InferenceModel:\n",
        "    def __init__(self, repo, kind):\n",
        "        self.model = AutoModelForSequenceClassification.from_pretrained(repo)\n",
        "        self.tokenizer = AutoTokenizer.from_pretrained(kind)\n",
        "        self.device = \"cuda\" if torch.cuda.is_available() else \"cpu\"\n",
        "        self.model.to(self.device)\n",
        "\n",
        "    def predict(self, desc, wiki):\n",
        "        self.model.eval()\n",
        "        # no max length - we want to use the default of the base model\n",
        "        # as we do in training\n",
        "        encoding = self.tokenizer(desc, wiki, return_tensors='pt', padding='max_length', truncation=True)\n",
        "        input_ids = encoding['input_ids'].to(self.device)\n",
        "        attention_mask = encoding['attention_mask'].to(self.device)\n",
        "        with torch.no_grad():\n",
        "            outputs = self.model(input_ids=input_ids, attention_mask=attention_mask)\n",
        "            _, prediction = torch.max(outputs.logits, dim=1)\n",
        "        return prediction.item()"
      ]
    },
    {
      "cell_type": "markdown",
      "metadata": {
        "id": "Q_WYVfZ-e1hl"
      },
      "source": [
        "Finally, the inference code. The output is also stored in a csv file: `transformer-inference.csv`. So that this can be inspected later."
      ]
    },
    {
      "cell_type": "code",
<<<<<<< HEAD
      "execution_count": 11,
=======
      "source": [
        "def number_to_label(label):\n",
        "    if label == 0:\n",
        "        return 'cultural agnostic'\n",
        "    if label == 1:\n",
        "        return 'cultural representative'\n",
        "    if label == 2:\n",
        "        return 'cultural exclusive'\n",
        "    raise ValueError('label not suppoerted: ' + label)\n",
        "\n",
        "model = InferenceModel(\"fax4ever/culturalitems-roberta-base\", \"roberta-base\")\n",
        "\n",
        "matching = 0\n",
        "predictions = []\n",
        "labels = []\n",
        "for index, item in enumerate(nlp_dataset.validation_set):\n",
        "    prediction = model.predict(item.description, item.wiki_text)\n",
        "    predicted_label = number_to_label(prediction)\n",
        "    predictions.append(predicted_label)\n",
        "    labels.append(item.label)\n",
        "    match = predicted_label == item.label\n",
        "    if match:\n",
        "        matching = matching + 1\n",
        "    if (index + 1) % 10 == 0:\n",
        "        print('inference of the validation set: ', index + 1, \"/\", len(nlp_dataset.validation_set))\n",
        "        print('matched', matching, 'on', index + 1, '(', matching / (index + 1), ')')\n",
        "print('inference of the validation: completed')\n",
        "print('matched', matching, 'on', len(nlp_dataset.validation_set), '(', matching / len(nlp_dataset.validation_set), ')')\n",
        "\n",
        "cm = confusion_matrix(labels, predictions)\n",
        "ConfusionMatrixDisplay(cm).plot()\n",
        "print('f1', f1_score(labels, predictions, average='macro'))\n",
        "print('recall', recall_score(labels, predictions, average='macro'))\n",
        "print('precision', precision_score(labels, predictions, average='macro'))\n",
        "print('accuracy_score', accuracy_score(labels, predictions))\n",
        "\n",
        "with open(BASE_PATH + 'Lost_in_Language_Recognition_output_roberta.csv', 'w', newline='') as file:\n",
        "    writer = csv.writer(file)\n",
        "    field = ['item', 'name', 'label']\n",
        "    writer.writerow(field)\n",
        "    for index, item in enumerate(nlp_dataset.test_set):\n",
        "        prediction = model.predict(item.description, item.wiki_text)\n",
        "        writer.writerow([\"http://www.wikidata.org/entity/\" + item.entity_id, item.name, number_to_label(prediction)])\n",
        "        if (index + 1) % 10 == 0:\n",
        "            print('inference of the test set: ', index + 1, \"/\", len(nlp_dataset.test_set))\n",
        "    print('inference of the test set: completed')"
      ],
>>>>>>> 62b92bfa8e8b2d7c11e106e45aac7942c12de685
      "metadata": {
        "colab": {
          "base_uri": "https://localhost:8080/",
          "height": 1000,
          "referenced_widgets": [
            "75150d229f5a4bc8b43446a427345ffd",
            "dab745a4fe6b4af0b47c29b64c52be9b",
            "c20d4dae63164d4ba4bbb8cd808b2612",
            "a63e9e0c5ed44cdc92859617eabcaaad",
            "7c1c143abf424e189d5180608b155ca0",
            "4aed10fe07d943568df0070a60c762d1",
            "127b768c13fa40178f336a1f948f5229",
            "119fb74816c24032bdcc7153ed6dc1d8",
            "636d5bf37f3642d8a38dd4a3742bb945",
            "4e43a5ed0d60427a85de70bc68048866",
            "6589d3230e9e46208900f8db1a58019f"
          ]
        },
        "id": "QFNn9hz-CEjC",
        "outputId": "f213791a-34c6-4fae-bc74-e41220322934"
      },
<<<<<<< HEAD
      "outputs": [
        {
=======
      "execution_count": 12,
      "outputs": [
        {
          "output_type": "display_data",
          "data": {
            "text/plain": [
              "model.safetensors:   0%|          | 0.00/499M [00:00<?, ?B/s]"
            ],
            "application/vnd.jupyter.widget-view+json": {
              "version_major": 2,
              "version_minor": 0,
              "model_id": "75150d229f5a4bc8b43446a427345ffd"
            }
          },
          "metadata": {}
        },
        {
          "output_type": "stream",
>>>>>>> 62b92bfa8e8b2d7c11e106e45aac7942c12de685
          "name": "stdout",
          "output_type": "stream",
          "text": [
            "inference of the validation set:  10 / 300\n",
            "matched 8 on 10 ( 0.8 )\n",
            "inference of the validation set:  20 / 300\n",
            "matched 17 on 20 ( 0.85 )\n",
            "inference of the validation set:  30 / 300\n",
            "matched 22 on 30 ( 0.7333333333333333 )\n",
            "inference of the validation set:  40 / 300\n",
            "matched 28 on 40 ( 0.7 )\n",
            "inference of the validation set:  50 / 300\n",
            "matched 37 on 50 ( 0.74 )\n",
            "inference of the validation set:  60 / 300\n",
            "matched 45 on 60 ( 0.75 )\n",
            "inference of the validation set:  70 / 300\n",
            "matched 54 on 70 ( 0.7714285714285715 )\n",
            "inference of the validation set:  80 / 300\n",
            "matched 63 on 80 ( 0.7875 )\n",
            "inference of the validation set:  90 / 300\n",
            "matched 71 on 90 ( 0.7888888888888889 )\n",
            "inference of the validation set:  100 / 300\n",
            "matched 78 on 100 ( 0.78 )\n",
            "inference of the validation set:  110 / 300\n",
            "matched 86 on 110 ( 0.7818181818181819 )\n",
            "inference of the validation set:  120 / 300\n",
            "matched 94 on 120 ( 0.7833333333333333 )\n",
            "inference of the validation set:  130 / 300\n",
            "matched 102 on 130 ( 0.7846153846153846 )\n",
            "inference of the validation set:  140 / 300\n",
            "matched 109 on 140 ( 0.7785714285714286 )\n",
            "inference of the validation set:  150 / 300\n",
            "matched 117 on 150 ( 0.78 )\n",
            "inference of the validation set:  160 / 300\n",
            "matched 126 on 160 ( 0.7875 )\n",
            "inference of the validation set:  170 / 300\n",
            "matched 133 on 170 ( 0.7823529411764706 )\n",
            "inference of the validation set:  180 / 300\n",
            "matched 139 on 180 ( 0.7722222222222223 )\n",
            "inference of the validation set:  190 / 300\n",
            "matched 148 on 190 ( 0.7789473684210526 )\n",
            "inference of the validation set:  200 / 300\n",
            "matched 154 on 200 ( 0.77 )\n",
            "inference of the validation set:  210 / 300\n",
            "matched 161 on 210 ( 0.7666666666666667 )\n",
            "inference of the validation set:  220 / 300\n",
            "matched 170 on 220 ( 0.7727272727272727 )\n",
            "inference of the validation set:  230 / 300\n",
            "matched 180 on 230 ( 0.782608695652174 )\n",
            "inference of the validation set:  240 / 300\n",
            "matched 189 on 240 ( 0.7875 )\n",
            "inference of the validation set:  250 / 300\n",
            "matched 196 on 250 ( 0.784 )\n",
            "inference of the validation set:  260 / 300\n",
            "matched 205 on 260 ( 0.7884615384615384 )\n",
            "inference of the validation set:  270 / 300\n",
            "matched 214 on 270 ( 0.7925925925925926 )\n",
            "inference of the validation set:  280 / 300\n",
            "matched 223 on 280 ( 0.7964285714285714 )\n",
            "inference of the validation set:  290 / 300\n",
            "matched 232 on 290 ( 0.8 )\n",
            "inference of the validation set:  300 / 300\n",
            "matched 238 on 300 ( 0.7933333333333333 )\n",
            "inference of the validation: completed\n",
            "matched 238 on 300 ( 0.7933333333333333 )\n",
            "f1 0.7854218694912861\n",
            "recall 0.7869704715499108\n",
            "precision 0.7847847847847849\n",
            "accuracy_score 0.7933333333333333\n",
            "inference of the test set:  10 / 300\n",
            "inference of the test set:  20 / 300\n",
            "inference of the test set:  30 / 300\n",
            "inference of the test set:  40 / 300\n",
            "inference of the test set:  50 / 300\n",
            "inference of the test set:  60 / 300\n",
            "inference of the test set:  70 / 300\n",
            "inference of the test set:  80 / 300\n",
            "inference of the test set:  90 / 300\n",
            "inference of the test set:  100 / 300\n",
            "inference of the test set:  110 / 300\n",
            "inference of the test set:  120 / 300\n",
            "inference of the test set:  130 / 300\n",
            "inference of the test set:  140 / 300\n",
            "inference of the test set:  150 / 300\n",
            "inference of the test set:  160 / 300\n",
            "inference of the test set:  170 / 300\n",
            "inference of the test set:  180 / 300\n",
            "inference of the test set:  190 / 300\n",
            "inference of the test set:  200 / 300\n",
            "inference of the test set:  210 / 300\n",
            "inference of the test set:  220 / 300\n",
            "inference of the test set:  230 / 300\n",
            "inference of the test set:  240 / 300\n",
            "inference of the test set:  250 / 300\n",
            "inference of the test set:  260 / 300\n",
            "inference of the test set:  270 / 300\n",
            "inference of the test set:  280 / 300\n",
            "inference of the test set:  290 / 300\n",
            "inference of the test set:  300 / 300\n",
            "inference of the test set: completed\n"
          ]
        },
        {
          "data": {
            "image/png": "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",
            "text/plain": [
              "<Figure size 640x480 with 2 Axes>"
<<<<<<< HEAD
            ]
=======
            ],
            "image/png": "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\n"
>>>>>>> 62b92bfa8e8b2d7c11e106e45aac7942c12de685
          },
          "metadata": {},
          "output_type": "display_data"
        }
      ],
      "source": [
        "def number_to_label(label):\n",
        "    if label == 0:\n",
        "        return 'cultural agnostic'\n",
        "    if label == 1:\n",
        "        return 'cultural representative'\n",
        "    if label == 2:\n",
        "        return 'cultural exclusive'\n",
        "    raise ValueError('label not suppoerted: ' + label)\n",
        "\n",
        "model = InferenceModel(\"fax4ever/culturalitems-roberta-base-1\", \"roberta-base\")\n",
        "\n",
        "matching = 0\n",
        "predictions = []\n",
        "labels = []\n",
        "for index, item in enumerate(nlp_dataset.validation_set):\n",
        "    prediction = model.predict(item.description, item.wiki_text)\n",
        "    predicted_label = number_to_label(prediction)\n",
        "    predictions.append(predicted_label)\n",
        "    labels.append(item.label)\n",
        "    match = predicted_label == item.label\n",
        "    if match:\n",
        "        matching = matching + 1\n",
        "    if (index + 1) % 10 == 0:\n",
        "        print('inference of the validation set: ', index + 1, \"/\", len(nlp_dataset.validation_set))\n",
        "        print('matched', matching, 'on', index + 1, '(', matching / (index + 1), ')')\n",
        "print('inference of the validation: completed')\n",
        "print('matched', matching, 'on', len(nlp_dataset.validation_set), '(', matching / len(nlp_dataset.validation_set), ')')\n",
        "\n",
        "cm = confusion_matrix(labels, predictions)\n",
        "ConfusionMatrixDisplay(cm).plot()\n",
        "print('f1', f1_score(labels, predictions, average='macro'))\n",
        "print('recall', recall_score(labels, predictions, average='macro'))\n",
        "print('precision', precision_score(labels, predictions, average='macro'))\n",
        "print('accuracy_score', accuracy_score(labels, predictions))\n",
        "\n",
        "with open(BASE_PATH + 'Lost_in_Language_Recognition_output_roberta.csv', 'w', newline='') as file:\n",
        "    writer = csv.writer(file)\n",
        "    field = ['item', 'name', 'label']\n",
        "    writer.writerow(field)\n",
        "    for index, item in enumerate(nlp_dataset.test_set):\n",
        "        prediction = model.predict(item.description, item.wiki_text)\n",
        "        writer.writerow([\"http://www.wikidata.org/entity/\" + item.entity_id, item.name, number_to_label(prediction)])\n",
        "        if (index + 1) % 10 == 0:\n",
        "            print('inference of the test set: ', index + 1, \"/\", len(nlp_dataset.test_set))\n",
        "    print('inference of the test set: completed')"
      ]
    }
  ],
  "metadata": {
    "accelerator": "GPU",
    "colab": {
      "gpuType": "T4",
      "provenance": []
    },
    "kernelspec": {
      "display_name": "Python 3",
      "name": "python3"
    },
    "language_info": {
      "name": "python"
    }
  },
  "nbformat": 4,
  "nbformat_minor": 0
}
